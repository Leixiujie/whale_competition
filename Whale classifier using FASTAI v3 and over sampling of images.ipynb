{
 "cells": [
  {
   "cell_type": "markdown",
   "metadata": {},
   "source": [
    "# Use FastAI image classifier on over sampled images"
   ]
  },
  {
   "cell_type": "markdown",
   "metadata": {},
   "source": [
    "Here is my attempt to apply learning of fastai v3 course at humpback whale competition. Along with that i am borrowing codes from 'https://github.com/radekosmulski/whale/'. Big thanks to him for creating such an awesome repository to get a good starting point in this competition "
   ]
  },
  {
   "cell_type": "code",
   "execution_count": 1,
   "metadata": {},
   "outputs": [],
   "source": [
    "%matplotlib inline\n",
    "import matplotlib.pyplot as plt\n",
    "from fastai.vision import *\n",
    "from fastai.metrics import accuracy\n",
    "from fastai.basic_data import *\n",
    "#from skimage.util import montage\n",
    "import pandas as pd\n",
    "from torch import optim\n",
    "import re\n",
    "\n",
    "\n",
    "import numpy as np\n",
    "import torch\n",
    "import pandas as pd\n",
    "import os \n",
    "import sys\n"
   ]
  },
  {
   "cell_type": "code",
   "execution_count": 2,
   "metadata": {},
   "outputs": [],
   "source": [
    "import fastai\n",
    "from fastprogress import force_console_behavior\n",
    "import fastprogress\n",
    "fastprogress.fastprogress.NO_BAR = True\n",
    "master_bar, progress_bar = force_console_behavior()\n",
    "fastai.basic_train.master_bar, fastai.basic_train.progress_bar = master_bar, progress_bar"
   ]
  },
  {
   "cell_type": "code",
   "execution_count": 3,
   "metadata": {},
   "outputs": [],
   "source": [
    "def top_5_pred_labels(preds, classes):\n",
    "    top_5 = top_5_preds(preds)\n",
    "    labels = []\n",
    "    for i in range(top_5.shape[0]):\n",
    "        labels.append(' '.join([classes[idx] for idx in top_5[i]]))\n",
    "    return labels\n",
    "\n",
    "def create_submission(preds, data, name, classes=None):\n",
    "    if not classes: classes = data.classes\n",
    "    sub = pd.DataFrame({'Image': [path.name for path in data.test_ds.x.items]})\n",
    "    sub['Id'] = top_5_pred_labels(preds, classes)\n",
    "    sub.to_csv(f'data/whale/subs/{name}.csv' , index = False)\n",
    "    #sub.to_csv(f'subs/{name}.csv.gz', index=False, compression='gzip')\n",
    "                                                                        \n"
   ]
  },
  {
   "cell_type": "code",
   "execution_count": 4,
   "metadata": {},
   "outputs": [],
   "source": [
    "df = pd.read_csv('data/whale/train.csv')\n",
    "freq_whale_ids = df.Id.value_counts().reset_index()"
   ]
  },
  {
   "cell_type": "code",
   "execution_count": 5,
   "metadata": {},
   "outputs": [],
   "source": [
    "fn2label = {row[1].Image: row[1].Id for row in df.iterrows()}\n",
    "path2fn = lambda path: re.search('\\w*\\.jpg$', path).group(0)\n"
   ]
  },
  {
   "cell_type": "code",
   "execution_count": 6,
   "metadata": {},
   "outputs": [],
   "source": [
    "name = f'res50-full-train'"
   ]
  },
  {
   "cell_type": "code",
   "execution_count": 7,
   "metadata": {},
   "outputs": [],
   "source": [
    "\"\"\"\n",
    "created an oversampled data set as suggested by radek\n",
    "\"\"\"\n",
    "oversampled_data = pd.read_csv('data/whale/oversampled_with_val.csv')"
   ]
  },
  {
   "cell_type": "code",
   "execution_count": 8,
   "metadata": {},
   "outputs": [],
   "source": [
    "SZ = 224*2\n",
    "BS = 64 // 4\n",
    "SEED=0\n",
    "NUM_WORKERS = 8\n",
    "val_fns = {'69823499d.jpg'}"
   ]
  },
  {
   "cell_type": "code",
   "execution_count": 9,
   "metadata": {},
   "outputs": [],
   "source": [
    "data = (\n",
    "    ImageItemList\n",
    "        .from_df(oversampled_data, 'data/whale/train', cols=['Image'])\n",
    "        .split_by_valid_func(lambda path: path2fn(path) in val_fns)\n",
    "        .label_from_func(lambda path: fn2label[path2fn(path)])\n",
    "        .add_test(ImageItemList.from_folder('data/whale/test'))\n",
    "        .transform(get_transforms(do_flip=False), size=SZ, resize_method=ResizeMethod.SQUISH)\n",
    "        .databunch(bs=BS, num_workers=NUM_WORKERS, path='data')\n",
    "        .normalize(imagenet_stats)\n",
    ")"
   ]
  },
  {
   "cell_type": "code",
   "execution_count": 10,
   "metadata": {},
   "outputs": [],
   "source": [
    "from utils import *\n",
    "learn = create_cnn(data , models.resnet50 , lin_ftrs=[2048] , metrics = [accuracy , map5])\n",
    "learn.clip_grad();\n",
    "\n",
    "\"\"\"\n",
    "    I have tried progressive resizing of input images as suggested in fast ai . \n",
    "    Firstly i will train resnet 50 on original input data set on size 128 X 128 (after unfreezing around 20 epochs). \n",
    "    Then load oversamopled data set , train for 2-3 epochs before unfreezing and 4-5 epochs after unfreezing. We can observe\n",
    "    that the training loss on this new data set quickly reaches to the final loss on original data (wo oversampling). We can save \n",
    "    this model now. \n",
    "    \n",
    "    Then use this model as pretrained model and train it on input images 224 X 224. Firstly on original dataset (20 epochs) and later on \n",
    "    oversampled data set (5 epochs).\n",
    "    \n",
    "    Finally use above pretrained model for size 448X448. It will become harder to train as we increase size of images , we need to \n",
    "    reduce batch size to take care of memory issues as well.\n",
    "\n",
    "\n",
    "\"\"\"\n",
    "learn.load(f'{name}-stage-4');"
   ]
  },
  {
   "cell_type": "code",
   "execution_count": 11,
   "metadata": {},
   "outputs": [
    {
     "name": "stdout",
     "output_type": "stream",
     "text": [
      "epoch     train_loss  valid_loss  accuracy  map5    \n",
      "1         1.952453                \n",
      "LR Finder is complete, type {learner_name}.recorder.plot() to see the graph.\n"
     ]
    }
   ],
   "source": [
    "learn.lr_find()"
   ]
  },
  {
   "cell_type": "code",
   "execution_count": 12,
   "metadata": {},
   "outputs": [
    {
     "data": {
      "image/png": "[encoded data removed]",
      "text/plain": [
       "<Figure size 432x288 with 1 Axes>"
      ]
     },
     "metadata": {
      "needs_background": "light"
     },
     "output_type": "display_data"
    }
   ],
   "source": [
    "learn.recorder.plot()"
   ]
  },
  {
   "cell_type": "markdown",
   "metadata": {},
   "source": [
    "We should take some where around 10 times lesser than 1e-2 as LR but because of difficulty in training a data set with more number of images , i am trying to use 4 time smaller learning rate."
   ]
  },
  {
   "cell_type": "code",
   "execution_count": 13,
   "metadata": {},
   "outputs": [
    {
     "name": "stdout",
     "output_type": "stream",
     "text": [
      "epoch     train_loss  valid_loss  accuracy  map5    \n",
      "1         1.719182    0.000006    1.000000  1.000000  \n",
      "2         0.581418    0.000197    1.000000  1.000000  \n",
      "epoch     train_loss  valid_loss  accuracy  map5    \n",
      "1         1.351919                \n",
      "LR Finder is complete, type {learner_name}.recorder.plot() to see the graph.\n",
      "epoch     train_loss  valid_loss  accuracy  map5    \n",
      "1         0.560741    0.000752    1.000000  1.000000  \n",
      "2         0.594290    0.000028    1.000000  1.000000  \n",
      "3         0.447626    0.000133    1.000000  1.000000  \n"
     ]
    },
    {
     "data": {
      "image/png": "[encoded data removed]",
      "text/plain": [
       "<Figure size 432x288 with 1 Axes>"
      ]
     },
     "metadata": {
      "needs_background": "light"
     },
     "output_type": "display_data"
    }
   ],
   "source": [
    "learn.freeze_to(-1)\n",
    "learn.fit_one_cycle(2, 1e-2 / 4)\n",
    "\n",
    "learn.unfreeze()\n",
    "\n",
    "learn.lr_find()\n",
    "learn.recorder.plot()\n",
    "\n",
    "\n",
    "max_lr = 1e-3 / 4\n",
    "lrs = [max_lr/100, max_lr/10, max_lr]\n",
    "\n",
    "learn.fit_one_cycle(3, lrs)"
   ]
  },
  {
   "cell_type": "code",
   "execution_count": 14,
   "metadata": {},
   "outputs": [],
   "source": [
    "learn.save(f'{name}-trained_full_oversampled_images');"
   ]
  },
  {
   "cell_type": "code",
   "execution_count": 15,
   "metadata": {},
   "outputs": [
    {
     "name": "stdout",
     "output_type": "stream",
     "text": [
      "epoch     train_loss  valid_loss  accuracy  map5    \n",
      "1         0.807211    0.000345    1.000000  1.000000  \n",
      "2         1.346154    0.005296    1.000000  1.000000  \n",
      "3         1.556103    0.001041    1.000000  1.000000  \n",
      "4         1.514041    0.003757    1.000000  1.000000  \n"
     ]
    }
   ],
   "source": [
    "learn.fit_one_cycle(4, lrs)"
   ]
  },
  {
   "cell_type": "code",
   "execution_count": 16,
   "metadata": {},
   "outputs": [],
   "source": [
    "\n",
    "preds, _ = learn.get_preds(DatasetType.Test)\n",
    "preds = torch.cat((preds, torch.ones_like(preds[:, :1])), 1)\n",
    "\n",
    "preds[: , 5004] = 0.06\n",
    "\n",
    "classes = learn.data.classes + ['new_whale']\n"
   ]
  },
  {
   "cell_type": "code",
   "execution_count": 17,
   "metadata": {},
   "outputs": [],
   "source": [
    "name = 'whale_only_oversampled_resnet50_v5'\n",
    "create_submission(preds, learn.data, name, classes)"
   ]
  },
  {
   "cell_type": "code",
   "execution_count": 18,
   "metadata": {},
   "outputs": [
    {
     "data": {
      "text/plain": [
       "0.660929648241206"
      ]
     },
     "execution_count": 18,
     "metadata": {},
     "output_type": "execute_result"
    }
   ],
   "source": [
    "## average number of rows with new whale as their first prediction\n",
    "pd.read_csv(f'data/whale/subs/{name}.csv').Id.str.split().apply(lambda x: x[0] == 'new_whale').mean()"
   ]
  },
  {
   "cell_type": "code",
   "execution_count": 19,
   "metadata": {},
   "outputs": [
    {
     "name": "stdout",
     "output_type": "stream",
     "text": [
      "Warning: Your Kaggle API key is readable by other users on this system! To fix this, you can run 'chmod 600 /home/FRACTAL/jitesh.arora/.kaggle/kaggle.json'\n",
      "100%|█████████████████████████████████████████| 498k/498k [00:04<00:00, 105kB/s]\n",
      "Successfully submitted to Humpback Whale Identification"
     ]
    }
   ],
   "source": [
    "\"\"\"\n",
    "Achieving a leaderboard score of 0.786 with above method\n",
    "\"\"\"\n",
    "! kaggle competitions submit -c humpback-whale-identification -f data/whale/subs/{name}.csv -m \"more trained on oversample full data\""
   ]
  },
  {
   "cell_type": "code",
   "execution_count": null,
   "metadata": {},
   "outputs": [],
   "source": []
  }
 ],
 "metadata": {
  "kernelspec": {
   "display_name": "Python 3",
   "language": "python",
   "name": "python3"
  },
  "language_info": {
   "codemirror_mode": {
    "name": "ipython",
    "version": 3
   },
   "file_extension": ".py",
   "mimetype": "text/x-python",
   "name": "python",
   "nbconvert_exporter": "python",
   "pygments_lexer": "ipython3",
   "version": "3.6.7"
  }
 },
 "nbformat": 4,
 "nbformat_minor": 2
}
