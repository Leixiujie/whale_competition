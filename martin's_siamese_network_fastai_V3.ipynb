{
 "cells": [
  {
   "cell_type": "markdown",
   "metadata": {},
   "source": [
    "## Updated notebook to implement martin's solution :\n",
    "https://www.kaggle.com/martinpiotte/whale-recognition-model-with-score-0-78563/output\n",
    "https://github.com/radekosmulski/whale/blob/master/siamese_network_prototype.ipynb"
   ]
  },
  {
   "cell_type": "markdown",
   "metadata": {},
   "source": [
    "I have removed various unused functions from previous versions. Also i have implemented on_epcoh_end() functionality to change data loader at the end of each epoch"
   ]
  },
  {
   "cell_type": "code",
   "execution_count": 1,
   "metadata": {},
   "outputs": [],
   "source": [
    "# Suppress annoying stderr output when importing keras.\n",
    "import sys\n",
    "import platform\n",
    "old_stderr = sys.stderr\n",
    "sys.stderr = open('/dev/null' if platform.system() != 'Windows' else 'nul', 'w')\n",
    "\n",
    "sys.stderr = old_stderr\n",
    "\n",
    "import random\n",
    "from scipy.ndimage import affine_transform\n",
    "\n",
    "import pickle\n",
    "import numpy as np\n",
    "from math import sqrt\n",
    "\n",
    "# Determise the size of each image\n",
    "from os.path import isfile\n",
    "from PIL import Image as pil_image\n",
    "from tqdm import tqdm_notebook\n",
    "\n",
    "from pandas import read_csv\n",
    "import pandas as pd"
   ]
  },
  {
   "cell_type": "code",
   "execution_count": 2,
   "metadata": {},
   "outputs": [],
   "source": [
    "from IPython.core.debugger import set_trace\n",
    "import random\n",
    "from lap import lapjv"
   ]
  },
  {
   "cell_type": "code",
   "execution_count": 3,
   "metadata": {},
   "outputs": [],
   "source": [
    "%matplotlib inline\n",
    "import matplotlib.pyplot as plt\n",
    "from fastai.vision import *\n",
    "from fastai.metrics import accuracy_thresh\n",
    "from fastai.basic_data import *\n",
    "from torch.utils.data import DataLoader, Dataset\n",
    "from torch import nn\n",
    "from fastai.callbacks.hooks import num_features_model, model_sizes\n",
    "from fastai.layers import BCEWithLogitsFlat\n",
    "from fastai.basic_train import Learner\n",
    "from skimage.util import montage\n",
    "import pandas as pd\n",
    "from torch import optim\n",
    "import re\n",
    "\n",
    "from utils import *\n",
    "\n",
    "from IPython.core.debugger import set_trace\n",
    "from functional import seq\n"
   ]
  },
  {
   "cell_type": "code",
   "execution_count": 4,
   "metadata": {},
   "outputs": [
    {
     "name": "stdout",
     "output_type": "stream",
     "text": [
      "(25361, 3)\n"
     ]
    },
    {
     "data": {
      "text/html": [
       "<div>\n",
       "<style scoped>\n",
       "    .dataframe tbody tr th:only-of-type {\n",
       "        vertical-align: middle;\n",
       "    }\n",
       "\n",
       "    .dataframe tbody tr th {\n",
       "        vertical-align: top;\n",
       "    }\n",
       "\n",
       "    .dataframe thead th {\n",
       "        text-align: right;\n",
       "    }\n",
       "</style>\n",
       "<table border=\"1\" class=\"dataframe\">\n",
       "  <thead>\n",
       "    <tr style=\"text-align: right;\">\n",
       "      <th></th>\n",
       "      <th>Image</th>\n",
       "      <th>Id</th>\n",
       "      <th>sighting_count</th>\n",
       "    </tr>\n",
       "  </thead>\n",
       "  <tbody>\n",
       "    <tr>\n",
       "      <th>0</th>\n",
       "      <td>0000e88ab.jpg</td>\n",
       "      <td>w_f48451c</td>\n",
       "      <td>14.0</td>\n",
       "    </tr>\n",
       "  </tbody>\n",
       "</table>\n",
       "</div>"
      ],
      "text/plain": [
       "           Image         Id  sighting_count\n",
       "0  0000e88ab.jpg  w_f48451c            14.0"
      ]
     },
     "execution_count": 4,
     "metadata": {},
     "output_type": "execute_result"
    }
   ],
   "source": [
    "df = pd.read_csv('data/whale/train.csv')\n",
    "im_count = df[df.Id != 'new_whale'].Id.value_counts()\n",
    "im_count.name = 'sighting_count'\n",
    "df = df.join(im_count, on='Id')\n",
    "print(df.shape)\n",
    "df.head(1)"
   ]
  },
  {
   "cell_type": "code",
   "execution_count": 5,
   "metadata": {},
   "outputs": [
    {
     "name": "stdout",
     "output_type": "stream",
     "text": [
      "(11737, 3)\n",
      "(966, 3)\n",
      "(207, 3)\n",
      "use these 1173 images on final validation data\n"
     ]
    }
   ],
   "source": [
    "exc_df = df[(df['Id']=='new_whale') | (df['sighting_count']==1)]\n",
    "print(exc_df.shape)\n",
    "df1 = df[df['Id']=='new_whale'].sample(frac= 0.1 , random_state = 42)\n",
    "df2 = df[df['sighting_count']==1].sample(frac = 0.1 , random_state = 42)\n",
    "print(df1.shape)\n",
    "print(df2.shape)\n",
    "print('use these 1173 images on final validation data')\n",
    "val_exc_df = pd.concat([df1 , df2] , axis = 0)"
   ]
  },
  {
   "cell_type": "markdown",
   "metadata": {},
   "source": [
    "I am using on black and white images now ( because training on B/W images is giving better results from experiments)\n",
    "Training data consists of all categories excluding new whale categories and categories having just 1 image data. Out of images with new whale category and 1 image data , i am creating 10% data which can be used for final validation ( and for finding out new whale threshold ).\n",
    "\n",
    "Apart from this i am creating a 400 images , validation data set . It consist stratified sampling based upon whale category , having at most 10% images in validation and rest in training data."
   ]
  },
  {
   "cell_type": "code",
   "execution_count": 6,
   "metadata": {},
   "outputs": [
    {
     "name": "stderr",
     "output_type": "stream",
     "text": [
      "/home/FRACTAL/jitesh.arora/anaconda3/lib/python3.6/site-packages/pandas/core/frame.py:3697: SettingWithCopyWarning: \n",
      "A value is trying to be set on a copy of a slice from a DataFrame\n",
      "\n",
      "See the caveats in the documentation: http://pandas.pydata.org/pandas-docs/stable/indexing.html#indexing-view-versus-copy\n",
      "  errors=errors)\n"
     ]
    }
   ],
   "source": [
    "new_df = df[df['Id']!= 'new_whale']\n",
    "new_df = new_df[new_df['sighting_count']>1]\n",
    "new_df_selected  = new_df[new_df['sighting_count']>10]\n",
    "new_df_selected.shape\n",
    "new_df_selected.drop(columns=['sighting_count'] , inplace=True)\n",
    "\n",
    "validation = new_df_selected.groupby(['Id']).apply(lambda x: x.sample(frac = 0.1)).reset_index(drop= True)\n",
    "print(new_df.shape)\n",
    "print(validation.shape)\n",
    "\n",
    "validation = validation.iloc[:400]\n",
    "print(validation.shape)\n",
    "val_imgs = set(validation.Image.values)\n",
    "validation.to_csv(f'data/whale/martin_score_update_validation.csv', index=False)\n",
    "#validation = pd.read_csv('data/whale/martin_score_update_validation.csv')"
   ]
  },
  {
   "cell_type": "code",
   "execution_count": 7,
   "metadata": {},
   "outputs": [
    {
     "name": "stdout",
     "output_type": "stream",
     "text": [
      "(13624, 2)\n"
     ]
    }
   ],
   "source": [
    "new_df.reset_index(drop=True)\n",
    "new_df.drop(columns=['sighting_count'] , inplace=True)\n",
    "print(new_df.shape)\n"
   ]
  },
  {
   "cell_type": "code",
   "execution_count": 7,
   "metadata": {},
   "outputs": [],
   "source": [
    "SZ = 384\n",
    "def expand_path(p):\n",
    "    if isfile('data/whale/train-{SZ}/' + p): return 'data/whale/train-{SZ}/' + p\n",
    "    if isfile('data/whale/test-{SZ}/' + p): return 'data/whale/test-{SZ}/' + p\n",
    "    return p\n",
    "\n",
    "\n",
    "def read_raw_image(p):\n",
    "    img = pil_image.open(expand_path(p))\n",
    "    return img\n"
   ]
  },
  {
   "cell_type": "code",
   "execution_count": 8,
   "metadata": {},
   "outputs": [
    {
     "name": "stdout",
     "output_type": "stream",
     "text": [
      "length of validation data:  400\n"
     ]
    }
   ],
   "source": [
    "name = f'resnet18_sr_update_384_bw_img'\n",
    "\n",
    "fn2label = {row[1].Image: row[1].Id for row in df.iterrows()}  #new_\n",
    "path2fn = lambda path: re.search('\\w*\\.jpg$', path).group(0)\n",
    "\n",
    "val_fns = set(validation.Image)\n",
    "print('length of validation data: '  , len(val_fns))\n",
    "\n",
    "SZ = 384\n",
    "BS = 64//8\n",
    "NUM_WORKERS = 12\n",
    "SEED=0"
   ]
  },
  {
   "cell_type": "code",
   "execution_count": 11,
   "metadata": {},
   "outputs": [],
   "source": [
    "classes = df.Id.unique()\n",
    "org_data = (\n",
    "    ImageItemList  \n",
    "        .from_df(new_df, f'data/whale/train-{SZ}', cols=['Image'])\n",
    "        .split_by_valid_func(lambda path: path2fn(path) in val_fns) \n",
    "        .label_from_func(lambda path: fn2label[path2fn(path)] ,  classes=classes)\n",
    "        .add_test(ImageItemList.from_folder(f'data/whale/test-{SZ}'))\n",
    "        .transform(get_transforms(do_flip=False), size=SZ, resize_method=ResizeMethod.SQUISH))"
   ]
  },
  {
   "cell_type": "code",
   "execution_count": 12,
   "metadata": {},
   "outputs": [
    {
     "name": "stdout",
     "output_type": "stream",
     "text": [
      "13224\n",
      "400\n"
     ]
    }
   ],
   "source": [
    "print(len(org_data.train))\n",
    "print(len(org_data.valid))"
   ]
  },
  {
   "cell_type": "markdown",
   "metadata": {},
   "source": [
    "TwoImDataset creation is the part where I am trying to replicate 'TrainingData Class' from https://www.kaggle.com/martinpiotte/whale-recognition-model-with-score-0-78563/output\n",
    "For whale categories having just one images in training data , matching pair -  same image pair (A,A) . For other categories it creates a de arrangement.  "
   ]
  },
  {
   "cell_type": "code",
   "execution_count": 13,
   "metadata": {},
   "outputs": [],
   "source": [
    "def is_even(num): return num % 2 == 0\n",
    "\n",
    "class TwoImDataset(Dataset):\n",
    "    def __init__(self, ds ,score, steps = 10):\n",
    "        self.ds = ds\n",
    "        self.whale_ids = ds.y.items\n",
    "        self.steps =steps\n",
    "        self.score  = -score\n",
    "       \n",
    "        for item in np.unique(ds.y.items):\n",
    "            candidates = list(np.where(self.whale_ids == item)[0])\n",
    "            for i in candidates:\n",
    "                for j in candidates:\n",
    "                    self.score[i,j] = 10000.0\n",
    "    \n",
    "        self.on_epoch_end()\n",
    "        \n",
    "    def __len__(self):  return 2 * len(self.ds)\n",
    "    def __getitem__(self, idx):\n",
    "        if is_even(idx):\n",
    "            return self.sample_image(idx // 2 , 1)\n",
    "        else: return self.sample_image((idx-1) // 2 ,0)        \n",
    "\n",
    "    def sample_image(self, idx , tag):\n",
    "        #set_trace()\n",
    "        if tag==1:\n",
    "            first_image_id =  self.match[idx][0] ;  second_image_id = self.match[idx][1]\n",
    "            if first_image_id == second_image_id:\n",
    "                return self.sample_image((2*idx -1)//2 , 0)\n",
    "            else:        \n",
    "                return self.construct_example(self.ds[first_image_id][0], self.ds[second_image_id][0], 1)\n",
    "        else:\n",
    "            first_image_id =  self.unmatch[idx][0] ;  second_image_id = self.unmatch[idx][1]     \n",
    "            return self.construct_example(self.ds[first_image_id][0], self.ds[second_image_id][0], 0)\n",
    "  \n",
    "    def on_epoch_end(self):\n",
    "        if self.steps <= 0: return # Skip this on the last epoch.\n",
    "        self.steps     -= 1 ; self.match      = [] ;  self.unmatch    = []\n",
    "        print('steps left: ' , self.steps)\n",
    "        _,_,x = lapjv(self.score) # Solve the linear assignment problem\n",
    "        y = np.arange(len(x),dtype=np.int32)\n",
    "\n",
    "        # Compute a derangement for matching whales\n",
    "        ct = 0 \n",
    "        for item in np.unique(self.whale_ids):\n",
    "            candidates = list(np.where(self.whale_ids == item)[0])\n",
    "            d = candidates.copy()\n",
    "            if (len(d)==1): self.match.append((d[0] , d[0]))\n",
    "            else:\n",
    "                while True:\n",
    "                    random.shuffle(candidates)\n",
    "                    if not np.any(candidates == d): break\n",
    "                for a ,b in zip(d , candidates): self.match.append((a , b))  ##(self.ds[a][0],self.ds[b][0])\n",
    "\n",
    "        # Construct unmatched whale pairs from the LAP solution.\n",
    "        for i,j in zip(x,y):\n",
    "            if i == j: print(i,j)\n",
    "            assert i != j\n",
    "            self.unmatch.append(( i , j) )  #\n",
    "\n",
    "        self.score[x,y] = 10000.0; self.score[y,x] = 10000.0\n",
    "        random.shuffle(self.match) ;  random.shuffle(self.unmatch); #print('end of epoch , matching pair',self.match[0]) ; print('end of epoch , unmathcing pair ',self.unmatch[0])\n",
    "        #print(len(self.match), len(self.ds), len(self.unmatch), len(self.ds))\n",
    "        #assert len(self.match) == len(train) and len(self.unmatch) == len(train)\n",
    "    \n",
    "    def construct_example(self, im_A, im_B, class_idx):\n",
    "        return [im_A, im_B], class_idx"
   ]
  },
  {
   "cell_type": "code",
   "execution_count": 14,
   "metadata": {
    "scrolled": true
   },
   "outputs": [
    {
     "name": "stdout",
     "output_type": "stream",
     "text": [
      "steps left:  15\n",
      "steps left:  399\n",
      "CPU times: user 45.1 s, sys: 968 ms, total: 46.1 s\n",
      "Wall time: 1min 1s\n"
     ]
    }
   ],
   "source": [
    "%%time\n",
    "tr_score = np.random.random_sample(size=(len(org_data.train),len(org_data.train)))\n",
    "val_score = np.random.random_sample(size= (len(org_data.valid),len(org_data.valid)))\n",
    "train_dl = DataLoader(\n",
    "    TwoImDataset(org_data.train , tr_score, 16),\n",
    "    batch_size=BS,\n",
    "    shuffle=True,\n",
    "    num_workers=NUM_WORKERS\n",
    ")\n",
    "\n",
    "valid_dl = DataLoader(\n",
    "    TwoImDataset(org_data.valid , val_score,400),\n",
    "    batch_size=BS,\n",
    "    shuffle=True,\n",
    "    num_workers=NUM_WORKERS\n",
    ")"
   ]
  },
  {
   "cell_type": "code",
   "execution_count": 15,
   "metadata": {},
   "outputs": [],
   "source": [
    "def normalize_batch(batch):\n",
    "    stat_tensors = [torch.tensor(l).cuda() for l in imagenet_stats]\n",
    "    return [normalize(batch[0][0], *stat_tensors), normalize(batch[0][1], *stat_tensors)], batch[1]"
   ]
  },
  {
   "cell_type": "code",
   "execution_count": 16,
   "metadata": {},
   "outputs": [],
   "source": [
    "data_bunch = ImageDataBunch(train_dl , valid_dl) \n",
    "data_bunch.add_tfm(normalize_batch)"
   ]
  },
  {
   "cell_type": "code",
   "execution_count": 17,
   "metadata": {},
   "outputs": [],
   "source": [
    "from functional import seq\n",
    "\n",
    "class SiameseNetwork(nn.Module):\n",
    "    def __init__(self, arch=models.resnet18):\n",
    "        super().__init__() \n",
    "        self.cnn = create_body(arch)\n",
    "        self.head = nn.Linear(num_features_model(self.cnn), 1)\n",
    "        \n",
    "    def forward(self, im_A, im_B):\n",
    "        # dl - distance layer\n",
    "        x1, x2 = seq(im_A, im_B).map(self.cnn).map(self.process_features)\n",
    "        dl = self.calculate_distance(x1, x2)\n",
    "        out = self.head(dl)\n",
    "        return out\n",
    "    \n",
    "    def process_features(self, x): return x.reshape(*x.shape[:2], -1).max(-1)[0]\n",
    "    def calculate_distance(self, x1, x2): return (x1 - x2).abs_()"
   ]
  },
  {
   "cell_type": "code",
   "execution_count": 18,
   "metadata": {},
   "outputs": [],
   "source": [
    "@dataclass\n",
    "class UpdateScoreMatrix(LearnerCallback):\n",
    "\n",
    "    def on_epoch_end(self, **kwargs):\n",
    "        learn.data.train_dl.dataset.on_epoch_end()\n",
    "       "
   ]
  },
  {
   "cell_type": "code",
   "execution_count": 21,
   "metadata": {},
   "outputs": [],
   "source": [
    "learn = Learner(data_bunch, SiameseNetwork(), loss_func=BCEWithLogitsFlat(), \n",
    "                metrics=[lambda preds, targs: accuracy_thresh(preds.squeeze(), targs, sigmoid=False)],\n",
    "               callback_fns=[UpdateScoreMatrix])"
   ]
  },
  {
   "cell_type": "code",
   "execution_count": 22,
   "metadata": {},
   "outputs": [],
   "source": [
    "learn.split([learn.model.cnn[:6], learn.model.cnn[6:], learn.model.head])"
   ]
  },
  {
   "cell_type": "code",
   "execution_count": 30,
   "metadata": {},
   "outputs": [
    {
     "data": {
      "text/html": [
       "Total time: 17:13 <p><table style='width:300px; margin-bottom:10px'>\n",
       "  <tr>\n",
       "    <th>epoch</th>\n",
       "    <th>train_loss</th>\n",
       "    <th>valid_loss</th>\n",
       "    <th><lambda></th>\n",
       "  </tr>\n",
       "  <tr>\n",
       "    <th>1</th>\n",
       "    <th>0.183070</th>\n",
       "    <th>0.163681</th>\n",
       "    <th>0.922500</th>\n",
       "  </tr>\n",
       "  <tr>\n",
       "    <th>2</th>\n",
       "    <th>0.222802</th>\n",
       "    <th>0.157088</th>\n",
       "    <th>0.940000</th>\n",
       "  </tr>\n",
       "  <tr>\n",
       "    <th>3</th>\n",
       "    <th>0.135524</th>\n",
       "    <th>0.141094</th>\n",
       "    <th>0.938750</th>\n",
       "  </tr>\n",
       "  <tr>\n",
       "    <th>4</th>\n",
       "    <th>0.115331</th>\n",
       "    <th>0.119380</th>\n",
       "    <th>0.953750</th>\n",
       "  </tr>\n",
       "</table>\n"
      ],
      "text/plain": [
       "<IPython.core.display.HTML object>"
      ]
     },
     "metadata": {},
     "output_type": "display_data"
    },
    {
     "name": "stdout",
     "output_type": "stream",
     "text": [
      "steps left:  13\n",
      "steps left:  12\n",
      "steps left:  11\n",
      "steps left:  10\n"
     ]
    }
   ],
   "source": [
    "\"\"\"\n",
    "using previously trained network for transfer learning\n",
    "\"\"\"\n",
    "learn.load(f'siamene_d1_18_score_updates-stage12');\n",
    "learn.freeze_to(-1)\n",
    "learn.fit_one_cycle(4 , 3e-3)"
   ]
  },
  {
   "cell_type": "code",
   "execution_count": 36,
   "metadata": {},
   "outputs": [
    {
     "name": "stdout",
     "output_type": "stream",
     "text": [
      "steps left:  6\n",
      "LR Finder is complete, type {learner_name}.recorder.plot() to see the graph.\n"
     ]
    },
    {
     "data": {
      "image/png": "[encoded data removed]",
      "text/plain": [
       "<Figure size 432x288 with 1 Axes>"
      ]
     },
     "metadata": {
      "needs_background": "light"
     },
     "output_type": "display_data"
    }
   ],
   "source": [
    "learn.unfreeze()\n",
    "learn.lr_find(start_lr=1e-4 ,stop_div=False)\n",
    "learn.recorder.plot()"
   ]
  },
  {
   "cell_type": "code",
   "execution_count": 37,
   "metadata": {
    "scrolled": true
   },
   "outputs": [],
   "source": [
    "max_lr = 3e-3\n",
    "lrs = [max_lr/100, max_lr/10, max_lr]"
   ]
  },
  {
   "cell_type": "code",
   "execution_count": 38,
   "metadata": {},
   "outputs": [
    {
     "data": {
      "text/html": [
       "Total time: 34:19 <p><table style='width:300px; margin-bottom:10px'>\n",
       "  <tr>\n",
       "    <th>epoch</th>\n",
       "    <th>train_loss</th>\n",
       "    <th>valid_loss</th>\n",
       "    <th><lambda></th>\n",
       "  </tr>\n",
       "  <tr>\n",
       "    <th>1</th>\n",
       "    <th>0.259490</th>\n",
       "    <th>0.181150</th>\n",
       "    <th>0.907500</th>\n",
       "  </tr>\n",
       "  <tr>\n",
       "    <th>2</th>\n",
       "    <th>0.262223</th>\n",
       "    <th>0.218057</th>\n",
       "    <th>0.893750</th>\n",
       "  </tr>\n",
       "  <tr>\n",
       "    <th>3</th>\n",
       "    <th>0.180557</th>\n",
       "    <th>0.195193</th>\n",
       "    <th>0.897500</th>\n",
       "  </tr>\n",
       "  <tr>\n",
       "    <th>4</th>\n",
       "    <th>0.166722</th>\n",
       "    <th>0.124803</th>\n",
       "    <th>0.947500</th>\n",
       "  </tr>\n",
       "  <tr>\n",
       "    <th>5</th>\n",
       "    <th>0.108651</th>\n",
       "    <th>0.102056</th>\n",
       "    <th>0.970000</th>\n",
       "  </tr>\n",
       "  <tr>\n",
       "    <th>6</th>\n",
       "    <th>0.103830</th>\n",
       "    <th>0.096633</th>\n",
       "    <th>0.967500</th>\n",
       "  </tr>\n",
       "</table>\n"
      ],
      "text/plain": [
       "<IPython.core.display.HTML object>"
      ]
     },
     "metadata": {},
     "output_type": "display_data"
    },
    {
     "name": "stdout",
     "output_type": "stream",
     "text": [
      "steps left:  5\n",
      "steps left:  4\n",
      "steps left:  3\n",
      "steps left:  2\n",
      "steps left:  1\n",
      "steps left:  0\n"
     ]
    }
   ],
   "source": [
    "learn.fit_one_cycle(6, lrs)"
   ]
  },
  {
   "cell_type": "code",
   "execution_count": 39,
   "metadata": {},
   "outputs": [
    {
     "data": {
      "image/png": "[encoded data removed]",
      "text/plain": [
       "<Figure size 432x288 with 1 Axes>"
      ]
     },
     "metadata": {
      "needs_background": "light"
     },
     "output_type": "display_data"
    }
   ],
   "source": [
    "learn.recorder.plot()"
   ]
  },
  {
   "cell_type": "code",
   "execution_count": 44,
   "metadata": {},
   "outputs": [],
   "source": [
    "name = f'resnet18_sr_update_384_bw_img'"
   ]
  },
  {
   "cell_type": "code",
   "execution_count": 45,
   "metadata": {},
   "outputs": [],
   "source": [
    "learn.save(f'{name}-stage1')"
   ]
  },
  {
   "cell_type": "markdown",
   "metadata": {},
   "source": [
    "After running models for few epochs, i want to update score matrix used in TwoImDataset. In order to come up with socres, currently i have a brute force approach of coming up with N X N array which has score of each example with respect to each of the other training examples.  \n",
    "Defining functions for the same."
   ]
  },
  {
   "cell_type": "code",
   "execution_count": 46,
   "metadata": {},
   "outputs": [],
   "source": [
    "new_data = ( ImageItemList\n",
    "        .from_df( new_df[(new_df.Id != 'new_whale')] , f'data/whale/train-{SZ}', cols=['Image'])\n",
    "        .split_by_valid_func(lambda path: path2fn(path) in val_fns) # in newer version of the fastai library there is .no_split that could be used here\n",
    "        .label_from_func(lambda path: fn2label[path2fn(path)], classes=classes)\n",
    "        .add_test(ImageItemList.from_folder(f'data/whale/test-{SZ}'))\n",
    "        .transform(None, size=SZ, resize_method=ResizeMethod.SQUISH)\n",
    "        .databunch(bs=BS, num_workers=NUM_WORKERS, path='data')\n",
    "        .normalize(imagenet_stats))\n",
    "\n",
    "\n",
    "\n",
    "def score_generation(learn , new_data):\n",
    "    features = []\n",
    "    train_class_idxs = []\n",
    "    learn.model.eval()\n",
    "    for ims, t in new_data.train_dl:\n",
    "        features.append(learn.model.process_features(learn.model.cnn(ims)).detach().cpu())\n",
    "        train_class_idxs.append(t)\n",
    "\n",
    "    train_class_idxs = torch.cat(train_class_idxs)\n",
    "    features = torch.cat(features)\n",
    "    print(len(features))\n",
    "\n",
    "    sims_np = []\n",
    "    for feat in features:\n",
    "        dists = learn.model.calculate_distance(features, feat.unsqueeze(0).repeat(13224, 1))\n",
    "        predicted_similarity = learn.model.head(dists.cuda()).sigmoid_()  #.cuda()\n",
    "        curr_sim = predicted_similarity.squeeze().detach().cpu()\n",
    "        sims_np.append(curr_sim.numpy())\n",
    "\n",
    "    sims_np = np.asarray(sims_np)\n",
    "    return sims_np"
   ]
  },
  {
   "attachments": {
    "image.png": {
     "image/png": "[encoded data removed]"
    }
   },
   "cell_type": "markdown",
   "metadata": {},
   "source": [
    "Now following Martin's step: \n",
    "1. come up with score matrix , combination of original score and random array( randomized with some amplitude).\n",
    "2. learn with following values of K for around 5 epochs\n",
    "![image.png](attachment:image.png)"
   ]
  },
  {
   "cell_type": "code",
   "execution_count": 50,
   "metadata": {},
   "outputs": [
    {
     "name": "stdout",
     "output_type": "stream",
     "text": [
      "13224\n",
      "steps left:  9\n"
     ]
    },
    {
     "data": {
      "text/html": [
       "Total time: 24:07 <p><table style='width:300px; margin-bottom:10px'>\n",
       "  <tr>\n",
       "    <th>epoch</th>\n",
       "    <th>train_loss</th>\n",
       "    <th>valid_loss</th>\n",
       "    <th><lambda></th>\n",
       "  </tr>\n",
       "  <tr>\n",
       "    <th>1</th>\n",
       "    <th>0.129625</th>\n",
       "    <th>0.126522</th>\n",
       "    <th>0.953750</th>\n",
       "  </tr>\n",
       "  <tr>\n",
       "    <th>2</th>\n",
       "    <th>0.135960</th>\n",
       "    <th>0.099606</th>\n",
       "    <th>0.966250</th>\n",
       "  </tr>\n",
       "  <tr>\n",
       "    <th>3</th>\n",
       "    <th>0.110901</th>\n",
       "    <th>0.091512</th>\n",
       "    <th>0.967500</th>\n",
       "  </tr>\n",
       "  <tr>\n",
       "    <th>4</th>\n",
       "    <th>0.108193</th>\n",
       "    <th>0.089160</th>\n",
       "    <th>0.968750</th>\n",
       "  </tr>\n",
       "</table>\n"
      ],
      "text/plain": [
       "<IPython.core.display.HTML object>"
      ]
     },
     "metadata": {},
     "output_type": "display_data"
    },
    {
     "name": "stdout",
     "output_type": "stream",
     "text": [
      "steps left:  8\n",
      "steps left:  7\n",
      "steps left:  6\n",
      "steps left:  5\n"
     ]
    },
    {
     "data": {
      "text/html": [
       "Total time: 53:52 <p><table style='width:300px; margin-bottom:10px'>\n",
       "  <tr>\n",
       "    <th>epoch</th>\n",
       "    <th>train_loss</th>\n",
       "    <th>valid_loss</th>\n",
       "    <th><lambda></th>\n",
       "  </tr>\n",
       "  <tr>\n",
       "    <th>1</th>\n",
       "    <th>0.116499</th>\n",
       "    <th>0.098378</th>\n",
       "    <th>0.966250</th>\n",
       "  </tr>\n",
       "  <tr>\n",
       "    <th>2</th>\n",
       "    <th>0.117175</th>\n",
       "    <th>0.095079</th>\n",
       "    <th>0.967500</th>\n",
       "  </tr>\n",
       "  <tr>\n",
       "    <th>3</th>\n",
       "    <th>0.103697</th>\n",
       "    <th>0.094473</th>\n",
       "    <th>0.955000</th>\n",
       "  </tr>\n",
       "  <tr>\n",
       "    <th>4</th>\n",
       "    <th>0.077408</th>\n",
       "    <th>0.090068</th>\n",
       "    <th>0.957500</th>\n",
       "  </tr>\n",
       "  <tr>\n",
       "    <th>5</th>\n",
       "    <th>0.076640</th>\n",
       "    <th>0.085204</th>\n",
       "    <th>0.963750</th>\n",
       "  </tr>\n",
       "  <tr>\n",
       "    <th>6</th>\n",
       "    <th>0.068598</th>\n",
       "    <th>0.085550</th>\n",
       "    <th>0.958750</th>\n",
       "  </tr>\n",
       "</table>\n"
      ],
      "text/plain": [
       "<IPython.core.display.HTML object>"
      ]
     },
     "metadata": {},
     "output_type": "display_data"
    },
    {
     "name": "stdout",
     "output_type": "stream",
     "text": [
      "steps left:  4\n",
      "steps left:  3\n",
      "steps left:  2\n",
      "steps left:  1\n",
      "steps left:  0\n"
     ]
    }
   ],
   "source": [
    "\n",
    "ampl = 100.0\n",
    "sims_np = score_generation(learn , new_data)\n",
    "score = sims_np.copy() + np.array(ampl*np.random.random_sample(size = (13224 , 13224)))\n",
    "\n",
    "train_dl = DataLoader(TwoImDataset(org_data.train , score , steps = 10),batch_size=BS,shuffle=True, num_workers=NUM_WORKERS)\n",
    "data_bunch = ImageDataBunch(train_dl , valid_dl) \n",
    "data_bunch.add_tfm(normalize_batch)\n",
    "\n",
    "learn = Learner(data_bunch, SiameseNetwork(), loss_func=BCEWithLogitsFlat(),\n",
    "                metrics=[lambda preds, targs: accuracy_thresh(preds.squeeze(), targs, sigmoid=False)], \n",
    "                callback_fns=[UpdateScoreMatrix])\n",
    "learn.split([learn.model.cnn[:6], learn.model.cnn[6:], learn.model.head])\n",
    "learn.freeze_to(-1)\n",
    "learn.load(f'{name}-stage1')\n",
    "learn.fit_one_cycle(4 , 1e-3)\n",
    "learn.unfreeze()\n",
    "max_lr = 5e-4\n",
    "lrs = [max_lr/100, max_lr/10, max_lr]\n",
    "learn.fit_one_cycle(6, lrs)\n",
    "learn.save(f'{name}-stage2')"
   ]
  },
  {
   "cell_type": "code",
   "execution_count": 51,
   "metadata": {},
   "outputs": [
    {
     "name": "stdout",
     "output_type": "stream",
     "text": [
      "13224\n",
      "steps left:  9\n"
     ]
    },
    {
     "data": {
      "text/html": [
       "Total time: 26:19 <p><table style='width:300px; margin-bottom:10px'>\n",
       "  <tr>\n",
       "    <th>epoch</th>\n",
       "    <th>train_loss</th>\n",
       "    <th>valid_loss</th>\n",
       "    <th><lambda></th>\n",
       "  </tr>\n",
       "  <tr>\n",
       "    <th>1</th>\n",
       "    <th>0.116707</th>\n",
       "    <th>0.100269</th>\n",
       "    <th>0.962500</th>\n",
       "  </tr>\n",
       "  <tr>\n",
       "    <th>2</th>\n",
       "    <th>0.110346</th>\n",
       "    <th>0.092963</th>\n",
       "    <th>0.960000</th>\n",
       "  </tr>\n",
       "  <tr>\n",
       "    <th>3</th>\n",
       "    <th>0.096555</th>\n",
       "    <th>0.090480</th>\n",
       "    <th>0.960000</th>\n",
       "  </tr>\n",
       "  <tr>\n",
       "    <th>4</th>\n",
       "    <th>0.101610</th>\n",
       "    <th>0.080699</th>\n",
       "    <th>0.965000</th>\n",
       "  </tr>\n",
       "</table>\n"
      ],
      "text/plain": [
       "<IPython.core.display.HTML object>"
      ]
     },
     "metadata": {},
     "output_type": "display_data"
    },
    {
     "name": "stdout",
     "output_type": "stream",
     "text": [
      "steps left:  8\n",
      "steps left:  7\n",
      "steps left:  6\n",
      "steps left:  5\n"
     ]
    },
    {
     "data": {
      "text/html": [
       "Total time: 1:10:42 <p><table style='width:300px; margin-bottom:10px'>\n",
       "  <tr>\n",
       "    <th>epoch</th>\n",
       "    <th>train_loss</th>\n",
       "    <th>valid_loss</th>\n",
       "    <th><lambda></th>\n",
       "  </tr>\n",
       "  <tr>\n",
       "    <th>1</th>\n",
       "    <th>0.082154</th>\n",
       "    <th>0.082177</th>\n",
       "    <th>0.962500</th>\n",
       "  </tr>\n",
       "  <tr>\n",
       "    <th>2</th>\n",
       "    <th>0.083976</th>\n",
       "    <th>0.102529</th>\n",
       "    <th>0.953750</th>\n",
       "  </tr>\n",
       "  <tr>\n",
       "    <th>3</th>\n",
       "    <th>0.093749</th>\n",
       "    <th>0.088888</th>\n",
       "    <th>0.962500</th>\n",
       "  </tr>\n",
       "  <tr>\n",
       "    <th>4</th>\n",
       "    <th>0.058409</th>\n",
       "    <th>0.086947</th>\n",
       "    <th>0.967500</th>\n",
       "  </tr>\n",
       "  <tr>\n",
       "    <th>5</th>\n",
       "    <th>0.085624</th>\n",
       "    <th>0.083280</th>\n",
       "    <th>0.965000</th>\n",
       "  </tr>\n",
       "  <tr>\n",
       "    <th>6</th>\n",
       "    <th>0.065744</th>\n",
       "    <th>0.082349</th>\n",
       "    <th>0.963750</th>\n",
       "  </tr>\n",
       "</table>\n"
      ],
      "text/plain": [
       "<IPython.core.display.HTML object>"
      ]
     },
     "metadata": {},
     "output_type": "display_data"
    },
    {
     "name": "stdout",
     "output_type": "stream",
     "text": [
      "steps left:  4\n",
      "steps left:  3\n",
      "steps left:  2\n",
      "steps left:  1\n",
      "steps left:  0\n"
     ]
    }
   ],
   "source": [
    "ampl = 63.10\n",
    "sims_np = score_generation(learn , new_data)\n",
    "score = sims_np.copy() + np.array(ampl*np.random.random_sample(size= (13224 , 13224)))\n",
    "\n",
    "train_dl = DataLoader(TwoImDataset(org_data.train , score  , steps =10),batch_size=BS,shuffle=True, num_workers=NUM_WORKERS)\n",
    "data_bunch = ImageDataBunch(train_dl , valid_dl) \n",
    "data_bunch.add_tfm(normalize_batch)\n",
    "\n",
    "learn = Learner(data_bunch, SiameseNetwork(), loss_func=BCEWithLogitsFlat(), \n",
    "                metrics=[lambda preds, targs: accuracy_thresh(preds.squeeze(), targs, sigmoid=False)], \n",
    "                callback_fns=[UpdateScoreMatrix])\n",
    "learn.split([learn.model.cnn[:6], learn.model.cnn[6:], learn.model.head])\n",
    "learn.freeze_to(-1)\n",
    "learn.load(f'{name}-stage2')\n",
    "learn.fit_one_cycle(4 , 1e-3)\n",
    "learn.unfreeze()\n",
    "max_lr = 5e-4\n",
    "lrs = [max_lr/100, max_lr/10, max_lr]\n",
    "learn.fit_one_cycle(6, lrs)\n",
    "learn.save(f'{name}-stage3')"
   ]
  },
  {
   "cell_type": "code",
   "execution_count": null,
   "metadata": {},
   "outputs": [],
   "source": [
    "learn.recorder.plot_losses()"
   ]
  },
  {
   "cell_type": "code",
   "execution_count": 52,
   "metadata": {
    "scrolled": true
   },
   "outputs": [
    {
     "name": "stdout",
     "output_type": "stream",
     "text": [
      "13224\n",
      "steps left:  9\n"
     ]
    },
    {
     "data": {
      "text/html": [
       "Total time: 26:58 <p><table style='width:300px; margin-bottom:10px'>\n",
       "  <tr>\n",
       "    <th>epoch</th>\n",
       "    <th>train_loss</th>\n",
       "    <th>valid_loss</th>\n",
       "    <th><lambda></th>\n",
       "  </tr>\n",
       "  <tr>\n",
       "    <th>1</th>\n",
       "    <th>0.105405</th>\n",
       "    <th>0.088874</th>\n",
       "    <th>0.972500</th>\n",
       "  </tr>\n",
       "  <tr>\n",
       "    <th>2</th>\n",
       "    <th>0.075071</th>\n",
       "    <th>0.099052</th>\n",
       "    <th>0.957500</th>\n",
       "  </tr>\n",
       "  <tr>\n",
       "    <th>3</th>\n",
       "    <th>0.071678</th>\n",
       "    <th>0.089600</th>\n",
       "    <th>0.955000</th>\n",
       "  </tr>\n",
       "  <tr>\n",
       "    <th>4</th>\n",
       "    <th>0.085147</th>\n",
       "    <th>0.085055</th>\n",
       "    <th>0.960000</th>\n",
       "  </tr>\n",
       "</table>\n"
      ],
      "text/plain": [
       "<IPython.core.display.HTML object>"
      ]
     },
     "metadata": {},
     "output_type": "display_data"
    },
    {
     "name": "stdout",
     "output_type": "stream",
     "text": [
      "steps left:  8\n",
      "steps left:  7\n",
      "steps left:  6\n",
      "steps left:  5\n"
     ]
    },
    {
     "data": {
      "text/html": [
       "Total time: 1:19:42 <p><table style='width:300px; margin-bottom:10px'>\n",
       "  <tr>\n",
       "    <th>epoch</th>\n",
       "    <th>train_loss</th>\n",
       "    <th>valid_loss</th>\n",
       "    <th><lambda></th>\n",
       "  </tr>\n",
       "  <tr>\n",
       "    <th>1</th>\n",
       "    <th>0.069484</th>\n",
       "    <th>0.090404</th>\n",
       "    <th>0.956250</th>\n",
       "  </tr>\n",
       "  <tr>\n",
       "    <th>2</th>\n",
       "    <th>0.068010</th>\n",
       "    <th>0.079819</th>\n",
       "    <th>0.966250</th>\n",
       "  </tr>\n",
       "  <tr>\n",
       "    <th>3</th>\n",
       "    <th>0.056548</th>\n",
       "    <th>0.080968</th>\n",
       "    <th>0.967500</th>\n",
       "  </tr>\n",
       "  <tr>\n",
       "    <th>4</th>\n",
       "    <th>0.072881</th>\n",
       "    <th>0.075425</th>\n",
       "    <th>0.961250</th>\n",
       "  </tr>\n",
       "  <tr>\n",
       "    <th>5</th>\n",
       "    <th>0.057068</th>\n",
       "    <th>0.080994</th>\n",
       "    <th>0.963750</th>\n",
       "  </tr>\n",
       "  <tr>\n",
       "    <th>6</th>\n",
       "    <th>0.053492</th>\n",
       "    <th>0.078342</th>\n",
       "    <th>0.970000</th>\n",
       "  </tr>\n",
       "</table>\n"
      ],
      "text/plain": [
       "<IPython.core.display.HTML object>"
      ]
     },
     "metadata": {},
     "output_type": "display_data"
    },
    {
     "name": "stdout",
     "output_type": "stream",
     "text": [
      "steps left:  4\n",
      "steps left:  3\n",
      "steps left:  2\n",
      "steps left:  1\n",
      "steps left:  0\n"
     ]
    }
   ],
   "source": [
    "ampl = 39.81\n",
    "sims_np = score_generation(learn , new_data)\n",
    "score = sims_np.copy() + np.array(ampl*np.random.random_sample(size=score.shape))\n",
    "\n",
    "train_dl = DataLoader(TwoImDataset(org_data.train , score ,steps = 10),batch_size=BS,shuffle=True, num_workers=NUM_WORKERS)\n",
    "data_bunch = ImageDataBunch(train_dl , valid_dl) \n",
    "data_bunch.add_tfm(normalize_batch)\n",
    "\n",
    "learn = Learner(data_bunch, SiameseNetwork(), loss_func=BCEWithLogitsFlat(), \n",
    "                metrics=[lambda preds, targs: accuracy_thresh(preds.squeeze(), targs, sigmoid=False)], \n",
    "                callback_fns=[UpdateScoreMatrix])\n",
    "learn.split([learn.model.cnn[:6], learn.model.cnn[6:], learn.model.head])\n",
    "learn.freeze_to(-1)\n",
    "learn.load(f'{name}-stage3')\n",
    "learn.fit_one_cycle(4 , 1e-2)\n",
    "learn.unfreeze()\n",
    "max_lr = 5e-3\n",
    "lrs = [max_lr/100, max_lr/10, max_lr]\n",
    "learn.fit_one_cycle(6, lrs)\n",
    "learn.save(f'{name}-stage4');"
   ]
  },
  {
   "cell_type": "code",
   "execution_count": 54,
   "metadata": {},
   "outputs": [
    {
     "data": {
      "image/png": "[encoded data removed]",
      "text/plain": [
       "<Figure size 432x288 with 1 Axes>"
      ]
     },
     "metadata": {
      "needs_background": "light"
     },
     "output_type": "display_data"
    }
   ],
   "source": [
    "learn.recorder.plot_losses()"
   ]
  },
  {
   "cell_type": "markdown",
   "metadata": {},
   "source": [
    "Following Martin's value  till around 40 epochs have not helped. Because our training loss is not decreasing. Maybe updating the DataLoader at the end of each epoch is not helping that much in my case because I don't have good base model to start with. "
   ]
  },
  {
   "cell_type": "code",
   "execution_count": null,
   "metadata": {},
   "outputs": [],
   "source": []
  }
 ],
 "metadata": {
  "kernelspec": {
   "display_name": "Python 3",
   "language": "python",
   "name": "python3"
  },
  "language_info": {
   "codemirror_mode": {
    "name": "ipython",
    "version": 3
   },
   "file_extension": ".py",
   "mimetype": "text/x-python",
   "name": "python",
   "nbconvert_exporter": "python",
   "pygments_lexer": "ipython3",
   "version": "3.6.6"
  }
 },
 "nbformat": 4,
 "nbformat_minor": 2
}
